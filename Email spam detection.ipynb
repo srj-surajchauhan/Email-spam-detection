{
 "cells": [
  {
   "cell_type": "code",
   "execution_count": 66,
   "id": "28db7b07",
   "metadata": {},
   "outputs": [],
   "source": [
    "import nltk\n",
    "import pandas as pd\n",
    "from nltk.stem.porter import PorterStemmer\n",
    "from nltk.corpus import stopwords\n",
    "import re\n",
    "from sklearn.feature_extraction.text import CountVectorizer\n",
    "from sklearn.model_selection import train_test_split\n",
    "from sklearn.naive_bayes import MultinomialNB\n",
    "from sklearn.metrics import accuracy_score \n",
    "from sklearn.metrics import confusion_matrix\n",
    "import seaborn as sns\n",
    "import pickle"
   ]
  },
  {
   "cell_type": "code",
   "execution_count": 9,
   "id": "2b32b361",
   "metadata": {},
   "outputs": [],
   "source": [
    "data=pd.read_csv(\"spam_ham_dataset.csv\")"
   ]
  },
  {
   "cell_type": "code",
   "execution_count": 17,
   "id": "55de9369",
   "metadata": {},
   "outputs": [
    {
     "data": {
      "text/html": [
       "<div>\n",
       "<style scoped>\n",
       "    .dataframe tbody tr th:only-of-type {\n",
       "        vertical-align: middle;\n",
       "    }\n",
       "\n",
       "    .dataframe tbody tr th {\n",
       "        vertical-align: top;\n",
       "    }\n",
       "\n",
       "    .dataframe thead th {\n",
       "        text-align: right;\n",
       "    }\n",
       "</style>\n",
       "<table border=\"1\" class=\"dataframe\">\n",
       "  <thead>\n",
       "    <tr style=\"text-align: right;\">\n",
       "      <th></th>\n",
       "      <th>text</th>\n",
       "      <th>label</th>\n",
       "    </tr>\n",
       "  </thead>\n",
       "  <tbody>\n",
       "    <tr>\n",
       "      <th>0</th>\n",
       "      <td>Subject: enron methanol ; meter # : 988291\\r\\n...</td>\n",
       "      <td>ham</td>\n",
       "    </tr>\n",
       "    <tr>\n",
       "      <th>1</th>\n",
       "      <td>Subject: hpl nom for january 9 , 2001\\r\\n( see...</td>\n",
       "      <td>ham</td>\n",
       "    </tr>\n",
       "    <tr>\n",
       "      <th>2</th>\n",
       "      <td>Subject: neon retreat\\r\\nho ho ho , we ' re ar...</td>\n",
       "      <td>ham</td>\n",
       "    </tr>\n",
       "    <tr>\n",
       "      <th>3</th>\n",
       "      <td>Subject: photoshop , windows , office . cheap ...</td>\n",
       "      <td>spam</td>\n",
       "    </tr>\n",
       "    <tr>\n",
       "      <th>4</th>\n",
       "      <td>Subject: re : indian springs\\r\\nthis deal is t...</td>\n",
       "      <td>ham</td>\n",
       "    </tr>\n",
       "  </tbody>\n",
       "</table>\n",
       "</div>"
      ],
      "text/plain": [
       "                                                text label\n",
       "0  Subject: enron methanol ; meter # : 988291\\r\\n...   ham\n",
       "1  Subject: hpl nom for january 9 , 2001\\r\\n( see...   ham\n",
       "2  Subject: neon retreat\\r\\nho ho ho , we ' re ar...   ham\n",
       "3  Subject: photoshop , windows , office . cheap ...  spam\n",
       "4  Subject: re : indian springs\\r\\nthis deal is t...   ham"
      ]
     },
     "execution_count": 17,
     "metadata": {},
     "output_type": "execute_result"
    }
   ],
   "source": [
    "data=data[['text','label']]\n",
    "data.head()"
   ]
  },
  {
   "cell_type": "code",
   "execution_count": 20,
   "id": "c3c2ae73",
   "metadata": {},
   "outputs": [],
   "source": [
    "ps=PorterStemmer()\n",
    "corpus=[]\n",
    "for i in range(len(data)):\n",
    "    mail=re.sub('[^a-zA-Z]+',' ', data['text'][i])\n",
    "    mail=mail.lower()\n",
    "    mail=mail.split()\n",
    "    mail=[ps.stem(words) for words in mail if not words in stopwords.words('english')]\n",
    "    mail=' '.join(mail)\n",
    "    corpus.append(mail)\n",
    "    "
   ]
  },
  {
   "cell_type": "code",
   "execution_count": 25,
   "id": "ba9ee1e3",
   "metadata": {},
   "outputs": [],
   "source": [
    "cv=CountVectorizer()\n",
    "X=cv.fit_transform(corpus).toarray()"
   ]
  },
  {
   "cell_type": "code",
   "execution_count": 65,
   "id": "ef4ffe68",
   "metadata": {},
   "outputs": [
    {
     "name": "stdout",
     "output_type": "stream",
     "text": [
      "      ham  spam\n",
      "0       1     0\n",
      "1       1     0\n",
      "2       1     0\n",
      "3       0     1\n",
      "4       1     0\n",
      "...   ...   ...\n",
      "5166    1     0\n",
      "5167    1     0\n",
      "5168    1     0\n",
      "5169    1     0\n",
      "5170    0     1\n",
      "\n",
      "[5171 rows x 2 columns]\n"
     ]
    }
   ],
   "source": [
    "y=pd.get_dummies(data['label'])\n",
    "print(y)\n",
    "y=y.iloc[:,1].values\n",
    "label=['ham','spam']"
   ]
  },
  {
   "cell_type": "code",
   "execution_count": 38,
   "id": "86172cc1",
   "metadata": {},
   "outputs": [],
   "source": [
    "X_train, X_test, y_train, y_test = train_test_split(X, y, test_size=0.3, random_state=55)"
   ]
  },
  {
   "cell_type": "code",
   "execution_count": 59,
   "id": "cebd52ec",
   "metadata": {},
   "outputs": [],
   "source": [
    "spam_detect_model=MultinomialNB(alpha=0.8).fit(X_train,y_train)"
   ]
  },
  {
   "cell_type": "code",
   "execution_count": 60,
   "id": "3399127a",
   "metadata": {},
   "outputs": [],
   "source": [
    "ypred=spam_detect_model.predict(X_test)"
   ]
  },
  {
   "cell_type": "code",
   "execution_count": 61,
   "id": "fb55d8be",
   "metadata": {},
   "outputs": [
    {
     "data": {
      "text/plain": [
       "0.9729381443298969"
      ]
     },
     "execution_count": 61,
     "metadata": {},
     "output_type": "execute_result"
    }
   ],
   "source": [
    "accuracy_score (y_test,ypred )"
   ]
  },
  {
   "cell_type": "code",
   "execution_count": 62,
   "id": "c4f3e055",
   "metadata": {},
   "outputs": [
    {
     "name": "stdout",
     "output_type": "stream",
     "text": [
      "Confusion matrix\n",
      "\n",
      " [[1126   16]\n",
      " [  26  384]]\n",
      "\n",
      "True Positives(TP) =  1126\n",
      "\n",
      "True Negatives(TN) =  384\n",
      "\n",
      "False Positives(FP) =  16\n",
      "\n",
      "False Negatives(FN) =  26\n"
     ]
    }
   ],
   "source": [
    "cm = confusion_matrix(y_test, ypred)\n",
    "print('Confusion matrix\\n\\n', cm)\n",
    "print('\\nTrue Positives(TP) = ', cm[0,0])\n",
    "print('\\nTrue Negatives(TN) = ', cm[1,1])\n",
    "print('\\nFalse Positives(FP) = ', cm[0,1])\n",
    "print('\\nFalse Negatives(FN) = ', cm[1,0])"
   ]
  },
  {
   "cell_type": "code",
   "execution_count": 63,
   "id": "76683f88",
   "metadata": {},
   "outputs": [
    {
     "data": {
      "text/plain": [
       "<AxesSubplot:>"
      ]
     },
     "execution_count": 63,
     "metadata": {},
     "output_type": "execute_result"
    },
    {
     "data": {
      "image/png": "[encoded data removed]",
      "text/plain": [
       "<Figure size 432x288 with 2 Axes>"
      ]
     },
     "metadata": {
      "needs_background": "light"
     },
     "output_type": "display_data"
    }
   ],
   "source": [
    "\n",
    "cm_matrix = pd.DataFrame(data=cm, columns=['Actual Positive', 'Actual Negative'], \n",
    "                                 index=['Predict Positive', 'Predict Negative'])\n",
    "\n",
    "sns.heatmap(cm_matrix, annot=True, fmt='d', cmap='YlGnBu')"
   ]
  },
  {
   "cell_type": "code",
   "execution_count": null,
   "id": "efc7f4a0",
   "metadata": {},
   "outputs": [],
   "source": [
    "filename=\"spam_detection.pkl\"\n",
    "pickle.dump(model, open(filename, 'wb'))"
   ]
  }
 ],
 "metadata": {
  "kernelspec": {
   "display_name": "Python 3 (ipykernel)",
   "language": "python",
   "name": "python3"
  },
  "language_info": {
   "codemirror_mode": {
    "name": "ipython",
    "version": 3
   },
   "file_extension": ".py",
   "mimetype": "text/x-python",
   "name": "python",
   "nbconvert_exporter": "python",
   "pygments_lexer": "ipython3",
   "version": "3.8.10"
  }
 },
 "nbformat": 4,
 "nbformat_minor": 5
}
